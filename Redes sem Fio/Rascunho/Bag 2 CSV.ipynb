{
 "cells": [
  {
   "cell_type": "markdown",
   "metadata": {},
   "source": [
    "### Mostrar os tópicos disponíveis no arquivo"
   ]
  },
  {
   "cell_type": "code",
   "execution_count": 27,
   "metadata": {},
   "outputs": [
    {
     "name": "stdout",
     "output_type": "stream",
     "text": [
      "Available topics in the bag file:\n",
      "Topic: /gtec/ftm, Message Type: gtec_msgs/ESP32S2FTMRangingExtra, Message Count: 224\n",
      "Topic: /rosout, Message Type: rosgraph_msgs/Log, Message Count: 4\n"
     ]
    }
   ],
   "source": [
    "import rosbag\n",
    "\n",
    "# Open the bag file\n",
    "bag = rosbag.Bag('AC/0.bag')\n",
    "\n",
    "# Get the list of topics\n",
    "topics = bag.get_type_and_topic_info().topics\n",
    "\n",
    "# Print available topics\n",
    "print(\"Available topics in the bag file:\")\n",
    "for topic, info in topics.items():\n",
    "    print(f\"Topic: {topic}, Message Type: {info.msg_type}, Message Count: {info.message_count}\")\n",
    "\n",
    "# Close the bag file\n",
    "bag.close()\n"
   ]
  },
  {
   "cell_type": "markdown",
   "metadata": {},
   "source": [
    "### Mostrar os campos disponíveis em um determinado tópico"
   ]
  },
  {
   "cell_type": "code",
   "execution_count": 26,
   "metadata": {},
   "outputs": [
    {
     "name": "stdout",
     "output_type": "stream",
     "text": [
      "Fields in the topic: /gtec/ftm\n",
      "anchorId: \"7c:df:a1:0e:db:f1\"\n",
      "rtt_est: 9\n",
      "rtt_raw: 21\n",
      "dist_est: 1.4299999475479126\n",
      "own_est: 2.0\n",
      "num_frames: 3\n",
      "frames: \n",
      "  - \n",
      "    rssi: -74\n",
      "    rtt: 21875\n",
      "    t1: 539372442187\n",
      "    t2: 464766257812\n",
      "    t3: 464870623437\n",
      "    t4: 539476829687\n",
      "  - \n",
      "    rssi: -74\n",
      "    rtt: 20313\n",
      "    t1: 571545442187\n",
      "    t2: 496939315625\n",
      "    t3: 497043623437\n",
      "    t4: 571649770312\n",
      "  - \n",
      "    rssi: -74\n",
      "    rtt: 21876\n",
      "    t1: 603718442187\n",
      "    t2: 529112371875\n",
      "    t3: 529216623437\n",
      "    t4: 603822715625\n"
     ]
    }
   ],
   "source": [
    "import rosbag\n",
    "\n",
    "# Open the bag file\n",
    "bag = rosbag.Bag('AC/0.bag')\n",
    "\n",
    "# Inspect the /gtec/ftm topic\n",
    "topic_name = '/gtec/ftm'\n",
    "print(f\"Fields in the topic: {topic_name}\")\n",
    "\n",
    "for topic, msg, t in bag.read_messages(topics=[topic_name]):\n",
    "    # Print the fields of the first message\n",
    "    print(msg)\n",
    "    break  # Stop after the first message to display structure\n",
    "\n",
    "# Close the bag file\n",
    "bag.close()\n"
   ]
  },
  {
   "cell_type": "markdown",
   "metadata": {},
   "source": [
    "### Converter as mensagens do tópico /gtec/ftm para .csv"
   ]
  },
  {
   "cell_type": "code",
   "execution_count": 34,
   "metadata": {},
   "outputs": [
    {
     "name": "stdout",
     "output_type": "stream",
     "text": [
      "Data has been saved to AC/1.csv\n"
     ]
    }
   ],
   "source": [
    "import rosbag\n",
    "import csv\n",
    "import os\n",
    "\n",
    "# Files\n",
    "input_file = 'AC/1.bag'\n",
    "output_file = os.path.splitext(input_file)[0] + '.csv'\n",
    "\n",
    "# Open the bag file\n",
    "bag = rosbag.Bag(input_file)\n",
    "\n",
    "# Define CSV headers\n",
    "headers = [\n",
    "    \"timestamp\", \"anchorId\", \"rtt_est\", \"rtt_raw\", \"dist_est\", \"own_est\", \n",
    "    \"num_frames\", \"frame_index\", \"rssi\", \"rtt\", \"t1\", \"t2\", \"t3\", \"t4\"\n",
    "]\n",
    "\n",
    "# Open the CSV file for writing\n",
    "with open(output_file, mode='w', newline='') as csvfile:\n",
    "    writer = csv.writer(csvfile)\n",
    "    writer.writerow(headers)  # Write headers to the CSV file\n",
    "\n",
    "    # Read messages from the topic\n",
    "    for topic, msg, t in bag.read_messages(topics=['/gtec/ftm']):\n",
    "        timestamp = t#.to_sec()  # Convert ROS time to seconds\n",
    "        for i, frame in enumerate(msg.frames):\n",
    "            writer.writerow([\n",
    "                timestamp, msg.anchorId, msg.rtt_est, msg.rtt_raw,\n",
    "                msg.dist_est, msg.own_est, msg.num_frames,\n",
    "                i,  # Frame index\n",
    "                frame.rssi, frame.rtt, frame.t1, frame.t2, frame.t3, frame.t4\n",
    "            ])\n",
    "\n",
    "# Close the bag file\n",
    "bag.close()\n",
    "\n",
    "print(f\"Data has been saved to {output_file}\")\n"
   ]
  },
  {
   "cell_type": "markdown",
   "metadata": {},
   "source": [
    "### Processa todos os arquivos do diretorio AC"
   ]
  },
  {
   "cell_type": "code",
   "execution_count": 41,
   "metadata": {},
   "outputs": [
    {
     "name": "stdout",
     "output_type": "stream",
     "text": [
      "Processando arquivo: AC/0.bag\n",
      "Arquivo convertido e salvo: AC/0.csv\n",
      "Processando arquivo: AC/1.bag\n",
      "Arquivo convertido e salvo: AC/1.csv\n",
      "Processando arquivo: AC/10.bag\n",
      "Arquivo convertido e salvo: AC/10.csv\n",
      "Processando arquivo: AC/11.bag\n",
      "Arquivo convertido e salvo: AC/11.csv\n",
      "Processando arquivo: AC/12.bag\n",
      "Arquivo convertido e salvo: AC/12.csv\n",
      "Processando arquivo: AC/13.bag\n",
      "Arquivo convertido e salvo: AC/13.csv\n",
      "Processando arquivo: AC/14.bag\n",
      "Arquivo convertido e salvo: AC/14.csv\n",
      "Processando arquivo: AC/15.bag\n",
      "Arquivo convertido e salvo: AC/15.csv\n",
      "Processando arquivo: AC/16.bag\n",
      "Arquivo convertido e salvo: AC/16.csv\n",
      "Processando arquivo: AC/17.bag\n",
      "Arquivo convertido e salvo: AC/17.csv\n",
      "Processando arquivo: AC/18.bag\n",
      "Arquivo convertido e salvo: AC/18.csv\n",
      "Processando arquivo: AC/19.bag\n",
      "Arquivo convertido e salvo: AC/19.csv\n",
      "Processando arquivo: AC/2.bag\n",
      "Arquivo convertido e salvo: AC/2.csv\n",
      "Processando arquivo: AC/3.bag\n",
      "Arquivo convertido e salvo: AC/3.csv\n",
      "Processando arquivo: AC/4.bag\n",
      "Arquivo convertido e salvo: AC/4.csv\n",
      "Processando arquivo: AC/5.bag\n",
      "Arquivo convertido e salvo: AC/5.csv\n",
      "Processando arquivo: AC/6.bag\n",
      "Arquivo convertido e salvo: AC/6.csv\n",
      "Processando arquivo: AC/7.bag\n",
      "Arquivo convertido e salvo: AC/7.csv\n",
      "Processando arquivo: AC/8.bag\n",
      "Arquivo convertido e salvo: AC/8.csv\n",
      "Processando arquivo: AC/9.bag\n",
      "Arquivo convertido e salvo: AC/9.csv\n"
     ]
    }
   ],
   "source": [
    "import rosbag\n",
    "import csv\n",
    "import os\n",
    "\n",
    "# Caminho do diretório contendo os arquivos .bag\n",
    "input_directory = \"AC/\"  # Substitua pelo caminho desejado\n",
    "\n",
    "# Itera por todos os arquivos no diretório\n",
    "for file_name in os.listdir(input_directory):\n",
    "    if file_name.endswith('.bag'):  # Verifica se é um arquivo .bag\n",
    "        input_file = os.path.join(input_directory, file_name)\n",
    "        output_file = os.path.splitext(input_file)[0] + '.csv'\n",
    "\n",
    "        print(f\"Processando arquivo: {input_file}\")\n",
    "        \n",
    "        # Define os cabeçalhos do CSV\n",
    "        headers = [\n",
    "            \"timestamp\", \"anchorId\", \"rtt_est\", \"rtt_raw\", \"dist_est\", \"own_est\", \n",
    "            \"num_frames\", \"frame_index\", \"rssi\", \"rtt\", \"t1\", \"t2\", \"t3\", \"t4\"\n",
    "        ]\n",
    "\n",
    "        try:\n",
    "            # Abre o arquivo .bag\n",
    "            bag = rosbag.Bag(input_file)\n",
    "\n",
    "            # Cria e escreve no arquivo CSV\n",
    "            with open(output_file, mode='w', newline='') as csvfile:\n",
    "                writer = csv.writer(csvfile)\n",
    "                writer.writerow(headers)  # Escreve os cabeçalhos no CSV\n",
    "\n",
    "                # Lê as mensagens do tópico\n",
    "                for topic, msg, t in bag.read_messages(topics=['/gtec/ftm']):\n",
    "                    timestamp = t # Converte o tempo ROS para segundos\n",
    "                    for i, frame in enumerate(msg.frames):\n",
    "                        writer.writerow([\n",
    "                            timestamp, msg.anchorId, msg.rtt_est, msg.rtt_raw,\n",
    "                            msg.dist_est, msg.own_est, msg.num_frames,\n",
    "                            i,  # Índice do frame\n",
    "                            frame.rssi, frame.rtt, frame.t1, frame.t2, frame.t3, frame.t4\n",
    "                        ])\n",
    "\n",
    "            # Fecha o arquivo .bag\n",
    "            bag.close()\n",
    "\n",
    "            print(f\"Arquivo convertido e salvo: {output_file}\")\n",
    "\n",
    "        except Exception as e:\n",
    "            print(f\"Erro ao processar {input_file}: {e}\")\n"
   ]
  },
  {
   "cell_type": "markdown",
   "metadata": {},
   "source": [
    "### Processa os arquivos do diretórios Indoor, Outdoor20 e Outdoor40"
   ]
  },
  {
   "cell_type": "code",
   "execution_count": 45,
   "metadata": {},
   "outputs": [
    {
     "name": "stdout",
     "output_type": "stream",
     "text": [
      "Processando arquivo: Indoor/1.bag\n",
      "Arquivo convertido e salvo: Indoor/1.csv\n",
      "Processando arquivo: Indoor/10.bag\n",
      "Arquivo convertido e salvo: Indoor/10.csv\n",
      "Processando arquivo: Indoor/11.bag\n",
      "Arquivo convertido e salvo: Indoor/11.csv\n",
      "Processando arquivo: Indoor/12.bag\n",
      "Arquivo convertido e salvo: Indoor/12.csv\n",
      "Processando arquivo: Indoor/13.bag\n",
      "Arquivo convertido e salvo: Indoor/13.csv\n",
      "Processando arquivo: Indoor/14.bag\n",
      "Arquivo convertido e salvo: Indoor/14.csv\n",
      "Processando arquivo: Indoor/15.bag\n",
      "Arquivo convertido e salvo: Indoor/15.csv\n",
      "Processando arquivo: Indoor/16.bag\n",
      "Arquivo convertido e salvo: Indoor/16.csv\n",
      "Processando arquivo: Indoor/17.bag\n",
      "Arquivo convertido e salvo: Indoor/17.csv\n",
      "Processando arquivo: Indoor/2.bag\n",
      "Arquivo convertido e salvo: Indoor/2.csv\n",
      "Processando arquivo: Indoor/3.bag\n",
      "Arquivo convertido e salvo: Indoor/3.csv\n",
      "Processando arquivo: Indoor/4.bag\n",
      "Arquivo convertido e salvo: Indoor/4.csv\n",
      "Processando arquivo: Indoor/5.bag\n",
      "Arquivo convertido e salvo: Indoor/5.csv\n",
      "Processando arquivo: Indoor/6.bag\n",
      "Arquivo convertido e salvo: Indoor/6.csv\n",
      "Processando arquivo: Indoor/7.bag\n",
      "Arquivo convertido e salvo: Indoor/7.csv\n",
      "Processando arquivo: Indoor/8.bag\n",
      "Arquivo convertido e salvo: Indoor/8.csv\n",
      "Processando arquivo: Indoor/9.bag\n",
      "Arquivo convertido e salvo: Indoor/9.csv\n"
     ]
    }
   ],
   "source": [
    "import rosbag\n",
    "import csv\n",
    "import os\n",
    "\n",
    "# Caminho do diretório contendo os arquivos .bag\n",
    "input_directory = \"Indoor/\"  # Substitua pelo caminho desejado\n",
    "\n",
    "# Itera por todos os arquivos no diretório\n",
    "for file_name in os.listdir(input_directory):\n",
    "    if file_name.endswith('.bag'):  # Verifica se é um arquivo .bag\n",
    "        input_file = os.path.join(input_directory, file_name)\n",
    "        output_file = os.path.splitext(input_file)[0] + '.csv'\n",
    "\n",
    "        print(f\"Processando arquivo: {input_file}\")\n",
    "        \n",
    "        # Define os cabeçalhos do CSV\n",
    "        headers = [\n",
    "            \"timestamp\", \"anchorId\", \"rtt_est\", \"rtt_raw\", \"dist_est\", \n",
    "            \"num_frames\", \"frame_index\", \"rssi\", \"rtt\", \"t1\", \"t2\", \"t3\", \"t4\"\n",
    "        ]\n",
    "\n",
    "        try:\n",
    "            # Abre o arquivo .bag\n",
    "            bag = rosbag.Bag(input_file)\n",
    "\n",
    "            # Cria e escreve no arquivo CSV\n",
    "            with open(output_file, mode='w', newline='') as csvfile:\n",
    "                writer = csv.writer(csvfile)\n",
    "                writer.writerow(headers)  # Escreve os cabeçalhos no CSV\n",
    "\n",
    "                # Lê as mensagens do tópico\n",
    "                for topic, msg, t in bag.read_messages(topics=['/gtec/ftm']):\n",
    "                    timestamp = t  # Converte o tempo ROS para segundos\n",
    "                    for i, frame in enumerate(msg.frames):\n",
    "                        writer.writerow([\n",
    "                            timestamp, msg.anchorId, msg.rtt_est, msg.rtt_raw,\n",
    "                            msg.dist_est, msg.num_frames,\n",
    "                            i,  # Índice do frame\n",
    "                            frame.rssi, frame.rtt, frame.t1, frame.t2, frame.t3, frame.t4\n",
    "                        ])\n",
    "\n",
    "            # Fecha o arquivo .bag\n",
    "            bag.close()\n",
    "\n",
    "            print(f\"Arquivo convertido e salvo: {output_file}\")\n",
    "\n",
    "        except Exception as e:\n",
    "            print(f\"Erro ao processar {input_file}: {e}\")\n"
   ]
  },
  {
   "cell_type": "code",
   "execution_count": null,
   "metadata": {},
   "outputs": [],
   "source": []
  }
 ],
 "metadata": {
  "kernelspec": {
   "display_name": "base",
   "language": "python",
   "name": "python3"
  },
  "language_info": {
   "codemirror_mode": {
    "name": "ipython",
    "version": 3
   },
   "file_extension": ".py",
   "mimetype": "text/x-python",
   "name": "python",
   "nbconvert_exporter": "python",
   "pygments_lexer": "ipython3",
   "version": "3.12.3"
  }
 },
 "nbformat": 4,
 "nbformat_minor": 2
}
