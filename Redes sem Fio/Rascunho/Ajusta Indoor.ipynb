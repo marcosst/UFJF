{
 "cells": [
  {
   "cell_type": "code",
   "execution_count": 4,
   "metadata": {},
   "outputs": [
    {
     "name": "stdout",
     "output_type": "stream",
     "text": [
      "Arquivo processado salvo em: sa-pt-novo.csv\n"
     ]
    }
   ],
   "source": [
    "import pandas as pd\n",
    "import os\n",
    "\n",
    "# Carregar o arquivo CSV\n",
    "file_path = \"sa-pt.csv\"  # Substitua pelo caminho do arquivo local\n",
    "data = pd.read_csv(file_path)\n",
    "\n",
    "# Agrupar por 'Ponto' e 'actualDist', encontrando o menor 'rttRaw'\n",
    "grouped_data = (\n",
    "    data.groupby(['Ponto', 'actualDist'])\n",
    "    .agg(rttNovoRaw=('rttRaw', 'min'))\n",
    "    .reset_index()\n",
    ")\n",
    "# Mesclar os valores de rttNovoEst de volta ao dataset original\n",
    "data = pd.merge(data, grouped_data, on=['Ponto', 'actualDist'], how='left')\n",
    "# Calcular a coluna errNovoEst\n",
    "data['errNovoRaw'] = abs(data['actualDist'] - data['rttNovoRaw'] * 0.299792458 / 2)\n",
    "\n",
    "# Agrupar por 'Ponto' e 'actualDist', encontrando o menor 'rttEst'\n",
    "grouped_data = (\n",
    "    data.groupby(['Ponto', 'actualDist'])\n",
    "    .agg(rttNovoEst=('rttEst', 'min'))\n",
    "    .reset_index()\n",
    ")\n",
    "# Mesclar os valores de rttNovoEst de volta ao dataset original\n",
    "data = pd.merge(data, grouped_data, on=['Ponto', 'actualDist'], how='left')\n",
    "# Calcular a coluna errNovoEst\n",
    "data['errNovoEst'] = abs(data['actualDist'] - data['rttNovoEst'] * 0.299792458 / 2)\n",
    "\n",
    "data['errArtigo'] = abs(data['actualDist'] - data['distEstOwn'])\n",
    "\n",
    "# Salvar o resultado em um novo arquivo\n",
    "file_name, file_extension = os.path.splitext(file_path)\n",
    "new_file_path = f\"{file_name}-novo{file_extension}\"\n",
    "data.to_csv(new_file_path, index=False)\n",
    "\n",
    "print(f\"Arquivo processado salvo em: {new_file_path}\")\n"
   ]
  }
 ],
 "metadata": {
  "kernelspec": {
   "display_name": "base",
   "language": "python",
   "name": "python3"
  },
  "language_info": {
   "codemirror_mode": {
    "name": "ipython",
    "version": 3
   },
   "file_extension": ".py",
   "mimetype": "text/x-python",
   "name": "python",
   "nbconvert_exporter": "python",
   "pygments_lexer": "ipython3",
   "version": "3.12.3"
  }
 },
 "nbformat": 4,
 "nbformat_minor": 2
}
