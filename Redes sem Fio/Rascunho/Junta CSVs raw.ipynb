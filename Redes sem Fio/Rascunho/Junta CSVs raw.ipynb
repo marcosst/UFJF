{
 "cells": [
  {
   "cell_type": "code",
   "execution_count": 6,
   "metadata": {},
   "outputs": [
    {
     "name": "stdout",
     "output_type": "stream",
     "text": [
      "Arquivo único gerado: Indoor-raw.csv\n"
     ]
    }
   ],
   "source": [
    "import os\n",
    "import pandas as pd\n",
    "\n",
    "# Caminho do diretório com os arquivos .csv\n",
    "diretorio = \"Indoor\"\n",
    "# Nome do arquivo CSV final\n",
    "arquivo_final = \"Indoor-raw.csv\"\n",
    "\n",
    "# Função para extrair a parte numérica do nome do arquivo\n",
    "def extrair_numero(nome_arquivo):\n",
    "    # Tenta extrair números do nome do arquivo\n",
    "    try:\n",
    "        return int(''.join(filter(str.isdigit, os.path.splitext(nome_arquivo)[0])))\n",
    "    except ValueError:\n",
    "        return float('inf')  # Para arquivos sem números, coloca no final\n",
    "\n",
    "# Lista para armazenar os DataFrames\n",
    "dataframes = []\n",
    "\n",
    "# Lista ordenada de arquivos no diretório\n",
    "arquivos = sorted(\n",
    "    [arq for arq in os.listdir(diretorio) if arq.endswith(\".csv\")],\n",
    "    key=extrair_numero\n",
    ")\n",
    "\n",
    "# Percorre os arquivos em ordem numérica\n",
    "for arquivo in arquivos:\n",
    "    caminho_arquivo = os.path.join(diretorio, arquivo)\n",
    "    \n",
    "    # Lê o arquivo CSV\n",
    "    df = pd.read_csv(caminho_arquivo)\n",
    "    \n",
    "    # Adiciona uma coluna chamada \"Ponto\" com o nome do arquivo (sem extensão)\n",
    "    df.insert(0, \"Ponto\", os.path.splitext(arquivo)[0])\n",
    "    \n",
    "    # Adiciona o DataFrame à lista\n",
    "    dataframes.append(df)\n",
    "\n",
    "# Combina todos os DataFrames em um único\n",
    "df_final = pd.concat(dataframes, ignore_index=True)\n",
    "\n",
    "# Salva o DataFrame combinado em um arquivo CSV único\n",
    "df_final.to_csv(arquivo_final, index=False)\n",
    "\n",
    "print(f\"Arquivo único gerado: {arquivo_final}\")\n"
   ]
  }
 ],
 "metadata": {
  "kernelspec": {
   "display_name": "base",
   "language": "python",
   "name": "python3"
  },
  "language_info": {
   "codemirror_mode": {
    "name": "ipython",
    "version": 3
   },
   "file_extension": ".py",
   "mimetype": "text/x-python",
   "name": "python",
   "nbconvert_exporter": "python",
   "pygments_lexer": "ipython3",
   "version": "3.12.3"
  }
 },
 "nbformat": 4,
 "nbformat_minor": 2
}
