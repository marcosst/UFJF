{
 "cells": [
  {
   "cell_type": "markdown",
   "metadata": {},
   "source": [
    "# AAG04\n",
    "\n",
    "- Desenvolva em Python um script que execute os seguintes passos:\n",
    "    1. Escolha um contexto (tema) e colete ou gere pequenas amostras comparáveis, com $ n < 30 $.\n",
    "    2. Execute Kolmogorov-Smirnov para verificar se as amostras seguem distribuição Normal ($ p$-value de pelo menos 0.8).\n",
    "    3. Repita de 1 e 2 até encontrar pelo menos 2 amostras Normais.\n",
    "    4. Verifique se as médias das amostras possuem diferença significativa (Teste-T).\n",
    "    5. Calcule o intervalo de confiança para as médias para níveis de confiança de 90%, 95% e 99%.\n",
    "    6. Apresente conclusões sobre os resultados obtidos nas etapas 2, 4 e 5.\n",
    "\n",
    "- Regras:\n",
    "    1. Funções prontas de bibliotecas Python **DEVEM** ser usadas ao máximo possível.\n",
    "    2. Código e resultados devem ser explicados em Markdown com comandos LaTeX.\n",
    "    3. Os formatos de entrega devem ser `.pdf` e `.ipynb` (código fonte + markdowns).\n",
    "    4. Os dados devem ser entregues em anexo.\n"
   ]
  },
  {
   "cell_type": "markdown",
   "metadata": {},
   "source": [
    "## 1. Contexto e Amostras\n",
    "Vamos gerar amostras aleatórias de um tema fictício, como tempos de resposta de dois servidores. Utilizaremos numpy para gerar os dados."
   ]
  },
  {
   "cell_type": "code",
   "execution_count": 88,
   "metadata": {},
   "outputs": [],
   "source": [
    "import numpy as np\n",
    "import scipy.stats as stats\n",
    "\n",
    "# Geração de amostras aleatórias com tamanho < 30\n",
    "np.random.seed(10)  # Para reprodutibilidade\n",
    "sample1 = np.random.normal(loc=50, scale=5, size=25)  # Média 50, desvio padrão 5\n",
    "sample2 = np.random.normal(loc=55, scale=5, size=25)  # Média 55, desvio padrão 5\n",
    "# print(\"Amostra 1:\", sample1)\n",
    "# print(\"Amostra 2:\", sample1)"
   ]
  },
  {
   "cell_type": "markdown",
   "metadata": {},
   "source": [
    "## 2. Teste de Kolmogorov-Smirnov para normalidade\n",
    "Se ambos os p-value forem maiores que 0.8 podemos seguir para o próximo passo, caso contrário é só gerar novas amostras"
   ]
  },
  {
   "cell_type": "code",
   "execution_count": 89,
   "metadata": {},
   "outputs": [
    {
     "name": "stdout",
     "output_type": "stream",
     "text": [
      "Amostra 1: p-value = 0.657946069111738\n",
      "Amostra 2: p-value = 0.4913557472750222\n"
     ]
    }
   ],
   "source": [
    "# Teste de normalidade para as amostras\n",
    "ks1 = stats.kstest(sample1, 'norm', args=(np.mean(sample1), np.std(sample1)))\n",
    "ks2 = stats.kstest(sample2, 'norm', args=(np.mean(sample2), np.std(sample2)))\n",
    "\n",
    "# Verificação do p-value\n",
    "print(\"Amostra 1: p-value =\", ks1.pvalue)\n",
    "print(\"Amostra 2: p-value =\", ks2.pvalue)"
   ]
  },
  {
   "cell_type": "markdown",
   "metadata": {},
   "source": [
    "## 3. Repetição até encontrar amostras normais\n",
    "Como os p-values das amostras anteriores eram inferiores a 0,8, gerar novas amostras até que ambos sejam maiores ou iguais a 0.8."
   ]
  },
  {
   "cell_type": "code",
   "execution_count": 90,
   "metadata": {},
   "outputs": [
    {
     "name": "stdout",
     "output_type": "stream",
     "text": [
      "Amostra 1: p-value = 0.8778909693732064\n",
      "Amostra 2: p-value = 0.9165868890127113\n",
      "Novas amostras encontradas com p-value >= 0.8\n"
     ]
    }
   ],
   "source": [
    "while ks1.pvalue < 0.8 or ks2.pvalue < 0.8:\n",
    "    sample1 = np.random.normal(loc=50, scale=5, size=25)\n",
    "    sample2 = np.random.normal(loc=55, scale=5, size=25)\n",
    "    ks1 = stats.kstest(sample1, 'norm', args=(np.mean(sample1), np.std(sample1)))\n",
    "    ks2 = stats.kstest(sample2, 'norm', args=(np.mean(sample2), np.std(sample2)))\n",
    "\n",
    "print(\"Amostra 1: p-value =\", ks1.pvalue)\n",
    "print(\"Amostra 2: p-value =\", ks2.pvalue)\n",
    "print(\"Novas amostras encontradas com p-value >= 0.8\")"
   ]
  },
  {
   "cell_type": "markdown",
   "metadata": {},
   "source": [
    "## 4. Teste-T para diferença de médias\n",
    "Usamos o teste t para verificar se as médias são significativamente diferentes."
   ]
  },
  {
   "cell_type": "code",
   "execution_count": 91,
   "metadata": {},
   "outputs": [
    {
     "name": "stdout",
     "output_type": "stream",
     "text": [
      "Teste-T: Estatística = -3.3492415493090517 , p-value = 0.001584140690012504\n"
     ]
    }
   ],
   "source": [
    "t_test = stats.ttest_ind(sample1, sample2)\n",
    "print(\"Teste-T: Estatística =\", t_test.statistic, \", p-value =\", t_test.pvalue)"
   ]
  },
  {
   "cell_type": "markdown",
   "metadata": {},
   "source": [
    "## 5. Cálculo dos intervalos de confiança\n",
    "Calculando os intervalos de confiança de 90%, 95% e 99% para as médias."
   ]
  },
  {
   "cell_type": "code",
   "execution_count": 102,
   "metadata": {},
   "outputs": [
    {
     "name": "stdout",
     "output_type": "stream",
     "text": [
      "Intervalo de confiança (90%)         \n",
      "   Amostra 1: (47.79, 51.21)         \n",
      "   Amostra 2: (52.50, 55.77)\n",
      "Intervalo de confiança (95%)         \n",
      "   Amostra 1: (47.44, 51.56)         \n",
      "   Amostra 2: (52.16, 56.11)\n",
      "Intervalo de confiança (99%)         \n",
      "   Amostra 1: (46.70, 52.30)         \n",
      "   Amostra 2: (51.46, 56.81)\n"
     ]
    }
   ],
   "source": [
    "confidence_levels = [0.90, 0.95, 0.99]\n",
    "\n",
    "def confidence_interval(data, confidence):\n",
    "    n = len(data)\n",
    "    mean = np.mean(data)\n",
    "    sem = stats.sem(data)  # Erro padrão\n",
    "    margin = sem * stats.t.ppf((1 + confidence) / 2, n - 1)\n",
    "    return mean - margin, mean + margin\n",
    "\n",
    "for confidence in confidence_levels:\n",
    "    ci1 = confidence_interval(sample1, confidence)\n",
    "    ci2 = confidence_interval(sample2, confidence)\n",
    "    print(f\"Intervalo de confiança ({int(confidence*100)}%) \\\n",
    "        \\n   Amostra 1: ({ci1[0]:.2f}, {ci1[1]:.2f}) \\\n",
    "        \\n   Amostra 2: ({ci2[0]:.2f}, {ci2[1]:.2f})\")"
   ]
  },
  {
   "cell_type": "markdown",
   "metadata": {},
   "source": [
    "## Conclusões\n",
    "\n",
    "1. **Normalidade das Amostras**:  \n",
    "   As amostras 1 e 2 passaram no teste de Kolmogorov-Smirnov com $p$-values de 0.8779 e 0.9166, respectivamente, ambos superiores ao critério de $p$-value $\\geq 0.8$. Portanto, podemos considerar que ambas seguem uma distribuição normal.\n",
    "\n",
    "2. **Teste de Diferença de Médias (Teste-T)**:  \n",
    "   O teste-T indicou que há uma diferença estatisticamente significativa entre as médias das duas amostras, com um $p$-value de 0.0016, que é muito menor que o nível de significância padrão de 0.05. A estatística $t$ calculada foi -3.3492, reforçando essa diferença significativa.\n",
    "\n",
    "3. **Intervalos de Confiança**:\n",
    "   - **90% de confiança**:  \n",
    "     - Amostra 1: $(47.79, 51.21)$  \n",
    "     - Amostra 2: $(52.50, 55.77)$  \n",
    "     Não há sobreposição entre os intervalos, indicando uma clara separação entre as médias das duas amostras.\n",
    "   - **95% de confiança**:  \n",
    "     - Amostra 1: $(47.44, 51.56)$  \n",
    "     - Amostra 2: $(52.16, 56.11)$  \n",
    "     Também não há sobreposição, confirmando a diferença das médias.\n",
    "   - **99% de confiança**:  \n",
    "     - Amostra 1: $(46.70, 52.30)$  \n",
    "     - Amostra 2: $(51.46, 56.81)$  \n",
    "     Mesmo para um nível de confiança mais rigoroso, os intervalos continuam separados, reforçando a evidência de diferença entre as médias.\n",
    "\n",
    "4. **Conclusão Geral**:  \n",
    "   Com base nos resultados do teste-T e nos intervalos de confiança, concluímos que há uma diferença estatisticamente significativa entre as médias das amostras 1 e 2. Essa diferença é consistente mesmo em níveis de confiança elevados (até 99%). Portanto, as duas populações podem ser consideradas distintas em termos de suas médias.\n"
   ]
  }
 ],
 "metadata": {
  "kernelspec": {
   "display_name": "base",
   "language": "python",
   "name": "python3"
  },
  "language_info": {
   "codemirror_mode": {
    "name": "ipython",
    "version": 3
   },
   "file_extension": ".py",
   "mimetype": "text/x-python",
   "name": "python",
   "nbconvert_exporter": "python",
   "pygments_lexer": "ipython3",
   "version": "3.12.3"
  }
 },
 "nbformat": 4,
 "nbformat_minor": 2
}
