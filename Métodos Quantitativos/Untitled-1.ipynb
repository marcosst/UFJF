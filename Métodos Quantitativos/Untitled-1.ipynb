{
 "cells": [
  {
   "cell_type": "code",
   "execution_count": 3,
   "metadata": {},
   "outputs": [
    {
     "name": "stdout",
     "output_type": "stream",
     "text": [
      "Acessando: http://books.toscrape.com/catalogue/page-1.html\n",
      "Acessando: http://books.toscrape.com/catalogue/page-2.html\n",
      "Acessando: http://books.toscrape.com/catalogue/page-3.html\n",
      "Dados coletados e salvos com sucesso!\n"
     ]
    }
   ],
   "source": [
    "import requests\n",
    "from bs4 import BeautifulSoup\n",
    "import pandas as pd\n",
    "\n",
    "# URL base do site\n",
    "base_url = \"http://books.toscrape.com/catalogue/page-{}.html\"\n",
    "\n",
    "# Listas para armazenar os dados coletados\n",
    "titles = []\n",
    "prices = []\n",
    "\n",
    "# Loop pelas 3 primeiras páginas\n",
    "for page in range(1, 4):  # Páginas 1, 2 e 3\n",
    "    # Construindo a URL da página atual\n",
    "    url = base_url.format(page)\n",
    "    print(f\"Acessando: {url}\")\n",
    "    \n",
    "    # Fazendo a requisição HTTP\n",
    "    response = requests.get(url)\n",
    "    \n",
    "    # Verificando se a requisição foi bem-sucedida\n",
    "    if response.status_code == 200:\n",
    "        # Parseando o HTML com BeautifulSoup\n",
    "        soup = BeautifulSoup(response.content, 'html.parser')\n",
    "        \n",
    "        # Localizando os elementos HTML correspondentes aos livros\n",
    "        books = soup.find_all(\"article\", class_=\"product_pod\")\n",
    "        for book in books:\n",
    "            # Extraindo o título\n",
    "            title = book.h3.a[\"title\"]\n",
    "            titles.append(title)\n",
    "            \n",
    "            # Extraindo o preço\n",
    "            price = book.find(\"p\", class_=\"price_color\").text\n",
    "            prices.append(price)\n",
    "    else:\n",
    "        print(f\"Erro ao acessar a página {page}: {response.status_code}\")\n",
    "\n",
    "# Criando um DataFrame com os dados coletados\n",
    "data = pd.DataFrame({\n",
    "    \"Title\": titles,\n",
    "    \"Price\": prices\n",
    "})\n",
    "\n",
    "# Salvando os dados em um arquivo CSV\n",
    "data.to_csv(\"books_data_multiple_pages.csv\", index=False)\n",
    "print(\"Dados coletados e salvos com sucesso!\")\n"
   ]
  }
 ],
 "metadata": {
  "kernelspec": {
   "display_name": "base",
   "language": "python",
   "name": "python3"
  },
  "language_info": {
   "codemirror_mode": {
    "name": "ipython",
    "version": 3
   },
   "file_extension": ".py",
   "mimetype": "text/x-python",
   "name": "python",
   "nbconvert_exporter": "python",
   "pygments_lexer": "ipython3",
   "version": "3.12.3"
  }
 },
 "nbformat": 4,
 "nbformat_minor": 2
}
